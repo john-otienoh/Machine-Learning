{
 "cells": [
  {
   "cell_type": "code",
   "execution_count": null,
   "id": "323709a8",
   "metadata": {},
   "outputs": [],
   "source": [
    "from sklearn import datasets\n",
    "import matplotlib.pyplot as plt\n",
    "from sklearn.datasets import make_regression, make_classification, make_blobs\n",
    "import pandas as pd\n",
    "import requests\n",
    "import pymysql\n",
    "from sqlalchemy import create_engine\n",
    "# import pandavro as pdx"
   ]
  },
  {
   "cell_type": "code",
   "execution_count": null,
   "id": "6fa9c328",
   "metadata": {},
   "outputs": [],
   "source": [
    "# Digits dataset\n",
    "digits = datasets.load_digits()\n",
    "features = digits.data\n",
    "vector = digits.target\n",
    "features[0]"
   ]
  },
  {
   "cell_type": "code",
   "execution_count": null,
   "id": "6c10ce4b",
   "metadata": {},
   "outputs": [],
   "source": [
    "# Dataset Attributes\n",
    "print(digits.DESCR)"
   ]
  },
  {
   "cell_type": "code",
   "execution_count": null,
   "id": "a0169465",
   "metadata": {},
   "outputs": [],
   "source": [
    "# Creating a Simulated Dataset\n",
    "# dataset designed to be used with linear regression, make_regression\n",
    "features, target, coefficients = make_regression(\n",
    "    n_samples=100, n_features=3, n_informative=3, n_targets=1, noise=0.0, coef=True, random_state=1\n",
    ")\n",
    "print('Feature Matrix\\n', features[:3])\n",
    "print('Target Vector\\n', target[:3])"
   ]
  },
  {
   "cell_type": "code",
   "execution_count": null,
   "id": "a305210f",
   "metadata": {},
   "outputs": [],
   "source": [
    "# creating a simulated dataset for classification, we can use make_classification:\n",
    "features, target = make_classification(\n",
    "    n_samples=100, n_features=3, n_informative=3, n_redundant=0, n_classes=2, weights=[.25, .75], random_state=1\n",
    ")\n",
    "print('Feature Matrix\\n', features[:3])\n",
    "print('Target Vector\\n', target[:3])"
   ]
  },
  {
   "cell_type": "code",
   "execution_count": null,
   "id": "a39f9652",
   "metadata": {},
   "outputs": [],
   "source": [
    "features, target = make_blobs(\n",
    "    n_samples=100, n_features=2, centers=3, cluster_std=0.5, shuffle=True, random_state=1\n",
    ")\n",
    "print('Feature Matrix\\n', features[:3])\n",
    "print('Target Vector\\n', target[:3])"
   ]
  },
  {
   "cell_type": "code",
   "execution_count": null,
   "id": "f6d3abae",
   "metadata": {},
   "outputs": [],
   "source": [
    "plt.scatter(features[:,0], features[:,1], c=target)\n",
    "plt.show()"
   ]
  },
  {
   "cell_type": "code",
   "execution_count": null,
   "id": "d1683824",
   "metadata": {},
   "outputs": [],
   "source": [
    "# Loading a csv file\n",
    "CSV_URL = 'https://raw.githubusercontent.com/chrisalbon/sim_data/master/data.csv'\n",
    "df_csv = pd.read_csv(CSV_URL)\n",
    "df_csv.head()"
   ]
  },
  {
   "cell_type": "code",
   "execution_count": null,
   "id": "083df70b",
   "metadata": {},
   "outputs": [],
   "source": [
    "car_df = pd.read_csv(\"../car_data.csv\")\n",
    "car_df.head()"
   ]
  },
  {
   "cell_type": "code",
   "execution_count": null,
   "id": "2fe9b8d2",
   "metadata": {},
   "outputs": [],
   "source": [
    "# Loading an Excel File\n",
    "EXCEL_URL = 'https://raw.githubusercontent.com/chrisalbon/sim_data/master/data.xlsx'\n",
    "df_excel = pd.read_excel(EXCEL_URL, sheet_name=0, header=0)\n",
    "df_excel.head()"
   ]
  },
  {
   "cell_type": "code",
   "execution_count": null,
   "id": "e7f173d4",
   "metadata": {},
   "outputs": [],
   "source": [
    "# Loading JSON file\n",
    "JSON_URL = 'https://raw.githubusercontent.com/chrisalbon/sim_data/master/data.json'\n",
    "df_json = pd.read_json(JSON_URL, orient='columns')\n",
    "df_json.head()"
   ]
  },
  {
   "cell_type": "code",
   "execution_count": null,
   "id": "f7521c80",
   "metadata": {},
   "outputs": [],
   "source": [
    "# Loading Parquet File\n",
    "PARQUET_URL = 'https://machine-learning-python-cookbook.s3.amazonaws.com/data.parquet'\n",
    "df_parquet = pd.read_parquet(PARQUET_URL)\n",
    "df_parquet.head()\n"
   ]
  },
  {
   "cell_type": "code",
   "execution_count": null,
   "id": "6c39094a",
   "metadata": {},
   "outputs": [],
   "source": [
    "# Loading an avro File\n",
    "AVRO_URL = 'https://machine-learning-python-cookbook.s3.amazonaws.com/data.avro'\n",
    "r = requests.get(AVRO_URL)\n",
    "with open('data.avro', 'wb') as f:\n",
    "    f.write(r.content)\n",
    "\n",
    "# df_avro = pdx.read_avro('data.avro')\n",
    "# df_avro.head()"
   ]
  },
  {
   "cell_type": "code",
   "execution_count": null,
   "id": "5bf8a660",
   "metadata": {},
   "outputs": [],
   "source": [
    "# Querying a SQLite database\n",
    "db_conn = create_engine('sqlite:///sample.db')\n",
    "df_sql = pd.read_sql_query('SELECT * FROM data', db_conn)\n",
    "df_sql.head()"
   ]
  },
  {
   "cell_type": "code",
   "execution_count": null,
   "id": "56d9d7f1",
   "metadata": {},
   "outputs": [],
   "source": [
    "# Querying a Remote SQL Database\n",
    "conn = pymysql.connect(\n",
    "    host='localhost', user='root', password='', db='db'\n",
    ")\n",
    "df_remote_sql = pd.read_sql(\"select * from data\", conn)\n",
    "df_remote_sql.head()"
   ]
  },
  {
   "cell_type": "code",
   "execution_count": null,
   "id": "c24eb9f6",
   "metadata": {},
   "outputs": [],
   "source": [
    "# Loading Data from a Google Sheet\n",
    "GOOGLE_SHEET_URL = 'https://docs.google.com/spreadsheets/d/1ehC-9otcAuitqnmWksqt1mOrTRCL38dv0K9UjhwzTOA/export?format=csv\"'\n",
    "df_sheets = pd.read_csv(GOOGLE_SHEET_URL)\n",
    "df_sheets.head()"
   ]
  },
  {
   "cell_type": "code",
   "execution_count": null,
   "id": "32f20376",
   "metadata": {},
   "outputs": [],
   "source": [
    "# Loading data from an s3 Bucket\n",
    "s3_uri = \"s3://machine-learning-python-cookbook/data.csv\"\n",
    "ACCESS_KEY_ID = \"xxxxxxxxxxxxx\"\n",
    "SECRET_ACCESS_KEY = \"xxxxxxxxxxxxxxxx\"\n",
    "# Read the CSV into a dataframe\n",
    "df_s3_bucket = pd.read_csv(\n",
    "    s3_uri,\n",
    "    storage_options={\n",
    "        \"key\": ACCESS_KEY_ID,\n",
    "        \"secret\": SECRET_ACCESS_KEY,\n",
    "    }\n",
    ")\n",
    "df_s3_bucket.head()"
   ]
  },
  {
   "cell_type": "code",
   "execution_count": null,
   "id": "ef832f0d",
   "metadata": {},
   "outputs": [],
   "source": [
    "# Loading Unstructured Data\n",
    "TEXT_URL = \"https://machine-learning-python-cookbook.s3.amazonaws.com/text.txt\"\n",
    "r = requests.get(TEXT_URL)\n",
    "with open('text.txt', 'wb') as f:\n",
    "    f.write(r.content)\n",
    "with open('text.txt', 'r') as f:\n",
    "    text = f.read()\n",
    "print(text)"
   ]
  }
 ],
 "metadata": {
  "kernelspec": {
   "display_name": ".venv",
   "language": "python",
   "name": "python3"
  },
  "language_info": {
   "codemirror_mode": {
    "name": "ipython",
    "version": 3
   },
   "file_extension": ".py",
   "mimetype": "text/x-python",
   "name": "python",
   "nbconvert_exporter": "python",
   "pygments_lexer": "ipython3",
   "version": "3.12.3"
  }
 },
 "nbformat": 4,
 "nbformat_minor": 5
}
