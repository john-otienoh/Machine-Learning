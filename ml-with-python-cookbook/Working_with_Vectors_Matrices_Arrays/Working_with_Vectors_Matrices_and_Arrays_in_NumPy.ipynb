{
 "cells": [
  {
   "cell_type": "code",
   "execution_count": 21,
   "id": "f7c01ea4",
   "metadata": {},
   "outputs": [],
   "source": [
    "import numpy as np\n",
    "from scipy import sparse"
   ]
  },
  {
   "cell_type": "code",
   "execution_count": 22,
   "id": "c7954e66",
   "metadata": {},
   "outputs": [],
   "source": [
    "# Creating a Vector\n",
    "vector = np.array([1, 2, 3, 4, 5, 6])\n",
    "vector_a = np.array([1,2,3])\n",
    "vector_b = np.array([4,5,6])\n",
    "# Creating a matrix\n",
    "matrix = np.array([[1, 2, 3],[4, 5, 6],[7, 8, 9]])\n",
    "matrix_a = np.array([[1, 1, 1],[1, 1, 1],[1, 1, 2]])\n",
    "matrix_b = np.array([[1, 3, 1],[1, 3, 1],[1, 3, 8]])"
   ]
  },
  {
   "cell_type": "code",
   "execution_count": 23,
   "id": "b668ec50",
   "metadata": {},
   "outputs": [
    {
     "name": "stdout",
     "output_type": "stream",
     "text": [
      "<Compressed Sparse Column sparse matrix of dtype 'int64'\n",
      "\twith 9 stored elements and shape (3, 3)>\n",
      "  Coords\tValues\n",
      "  (0, 0)\t1\n",
      "  (1, 0)\t4\n",
      "  (2, 0)\t7\n",
      "  (0, 1)\t2\n",
      "  (1, 1)\t5\n",
      "  (2, 1)\t8\n",
      "  (0, 2)\t3\n",
      "  (1, 2)\t6\n",
      "  (2, 2)\t9\n",
      "<Compressed Sparse Row sparse matrix of dtype 'int64'\n",
      "\twith 2 stored elements and shape (3, 10)>\n",
      "  Coords\tValues\n",
      "  (1, 1)\t1\n",
      "  (2, 0)\t3\n"
     ]
    }
   ],
   "source": [
    "# Creating a sparse matrix\n",
    "matrix_sparse = sparse.csc_matrix(matrix)\n",
    "print(matrix_sparse)\n",
    "matrix_large = np.array([[0, 0, 0, 0, 0, 0, 0, 0, 0, 0],\n",
    "[0, 1, 0, 0, 0, 0, 0, 0, 0, 0],\n",
    "[3, 0, 0, 0, 0, 0, 0, 0, 0, 0]])\n",
    "# Create compressed sparse row (CSR) matrix\n",
    "matrix_large_sparse = sparse.csr_matrix(matrix_large)\n",
    "\n",
    "# View larger sparse matrix\n",
    "print(matrix_large_sparse)"
   ]
  },
  {
   "cell_type": "code",
   "execution_count": 24,
   "id": "8c325d80",
   "metadata": {},
   "outputs": [
    {
     "name": "stdout",
     "output_type": "stream",
     "text": [
      "[0. 0. 0. 0. 0.]\n",
      "[[1 1 1]\n",
      " [1 1 1]\n",
      " [1 1 1]]\n"
     ]
    }
   ],
   "source": [
    "# Preallocating numpy arrays\n",
    "zeros_vector = np.zeros(shape=5)\n",
    "print(zeros_vector)\n",
    "ones_matrix = np.full(shape=(3,3), fill_value=1)\n",
    "print(ones_matrix)"
   ]
  },
  {
   "cell_type": "code",
   "execution_count": 25,
   "id": "b90e2a9b",
   "metadata": {},
   "outputs": [
    {
     "data": {
      "text/plain": [
       "array([[2],\n",
       "       [5],\n",
       "       [8]])"
      ]
     },
     "execution_count": 25,
     "metadata": {},
     "output_type": "execute_result"
    }
   ],
   "source": [
    "# Selecting elements\n",
    "# Select third element of vector\n",
    "vector[2]\n",
    "# Select second row, second column\n",
    "matrix[1,1]\n",
    "# Select all elements of a vector\n",
    "vector[:]\n",
    "# Select everything up to and including the third element\n",
    "vector[:3]\n",
    "# Select everything after the third element\n",
    "vector[3:]\n",
    "# Select the last element\n",
    "vector[-1]\n",
    "# Reverse the vector\n",
    "vector[::-1]\n",
    "# Select the first two rows and all columns of a matrix\n",
    "matrix[:2,:]\n",
    "# Select all rows and the second column\n",
    "matrix[:,1:2]"
   ]
  },
  {
   "cell_type": "code",
   "execution_count": 26,
   "id": "a1b07aa9",
   "metadata": {},
   "outputs": [
    {
     "name": "stdout",
     "output_type": "stream",
     "text": [
      "The matrix shape is (3, 3)\n",
      "The size of the matrix is 9\n",
      "The number of dimensions is 2\n"
     ]
    }
   ],
   "source": [
    "# Describing a matrix\n",
    "\n",
    "print(f\"The matrix shape is {matrix.shape}\")\n",
    "print(f\"The size of the matrix is {matrix.size}\")\n",
    "print(f\"The number of dimensions is {matrix.ndim}\")\n"
   ]
  },
  {
   "cell_type": "code",
   "execution_count": 27,
   "id": "e0112fa3",
   "metadata": {},
   "outputs": [
    {
     "name": "stdout",
     "output_type": "stream",
     "text": [
      "The matrix [[1 2 3]\n",
      " [4 5 6]\n",
      " [7 8 9]]\n",
      "Vectorized matrix [[101 102 103]\n",
      " [104 105 106]\n",
      " [107 108 109]]\n"
     ]
    }
   ],
   "source": [
    "# Applying Functions over Each Element\n",
    "add_100 = lambda i: i+100\n",
    "vectorized_add_100 = np.vectorize(add_100)\n",
    "vectorized_add_100 = vectorized_add_100(matrix)\n",
    "print(f\"The matrix {matrix}\")\n",
    "print(f\"Vectorized matrix {vectorized_add_100}\")"
   ]
  },
  {
   "cell_type": "code",
   "execution_count": 28,
   "id": "e32c8c50",
   "metadata": {},
   "outputs": [
    {
     "name": "stdout",
     "output_type": "stream",
     "text": [
      "Max element is 9\n",
      "Min element is 1\n"
     ]
    }
   ],
   "source": [
    "# Maximum and minimum Values\n",
    "print(f\"Max element is {np.max(matrix)}\")\n",
    "print(f\"Min element is {np.min(matrix)}\")"
   ]
  },
  {
   "cell_type": "code",
   "execution_count": 29,
   "id": "c21cf2f8",
   "metadata": {},
   "outputs": [
    {
     "name": "stdout",
     "output_type": "stream",
     "text": [
      "The mean is 5.0\n",
      "The variance is 6.666666666666667\n",
      "The standard deviation is 2.581988897471611\n",
      "The mean value in each column is [4. 5. 6.]\n",
      "The mean value in each row is [2. 5. 8.]\n"
     ]
    }
   ],
   "source": [
    "# Calculating the Average, Variance, and Standard Deviation\n",
    "print(f\"The mean is {np.mean(matrix)}\")\n",
    "print(f\"The variance is {np.var(matrix)}\")\n",
    "print(f\"The standard deviation is {np.std(matrix)}\")\n",
    "print(f\"The mean value in each column is {np.mean(matrix, axis=0)}\")\n",
    "print(f\"The mean value in each row is {np.mean(matrix, axis=1)}\")"
   ]
  },
  {
   "cell_type": "code",
   "execution_count": 30,
   "id": "2ed9d7fb",
   "metadata": {},
   "outputs": [
    {
     "name": "stdout",
     "output_type": "stream",
     "text": [
      "The matrix [[1 2 3]\n",
      " [4 5 6]\n",
      " [7 8 9]] is reshaped to [[1 2 3 4 5 6 7 8 9]]\n",
      "The matrix [[1 2 3]\n",
      " [4 5 6]\n",
      " [7 8 9]] is reshaped to [1 2 3 4 5 6 7 8 9]\n"
     ]
    }
   ],
   "source": [
    "# Reshaping Arrays\n",
    "# print(f\"The matrix {matrix} is reshaped to {matrix.reshape(2, 3)}\")\n",
    "print(f\"The matrix {matrix} is reshaped to {matrix.reshape(1, -1)}\")\n",
    "print(f\"The matrix {matrix} is reshaped to {matrix.reshape(9)}\")\n"
   ]
  },
  {
   "cell_type": "code",
   "execution_count": 31,
   "id": "622aad1c",
   "metadata": {},
   "outputs": [
    {
     "name": "stdout",
     "output_type": "stream",
     "text": [
      "The transpose of matrix [[1 2 3]\n",
      " [4 5 6]\n",
      " [7 8 9]] is [[1 4 7]\n",
      " [2 5 8]\n",
      " [3 6 9]]\n",
      "The transpose of vector [1 2 3 4 5 6] is [1 2 3 4 5 6]\n"
     ]
    }
   ],
   "source": [
    "# Transposing a vector or matrix\n",
    "print(f\"The transpose of matrix {matrix} is {matrix.T}\")\n",
    "print(f\"The transpose of vector {vector} is {vector.T}\")"
   ]
  },
  {
   "cell_type": "code",
   "execution_count": 32,
   "id": "a26e92f1",
   "metadata": {},
   "outputs": [
    {
     "data": {
      "text/plain": [
       "array([1, 2, 3, 4, 5, 6, 7, 8, 9])"
      ]
     },
     "execution_count": 32,
     "metadata": {},
     "output_type": "execute_result"
    }
   ],
   "source": [
    "# Flattening a matrix - transform a matrix to 1-D Array\n",
    "matrix.flatten()\n",
    "np.ravel(matrix)"
   ]
  },
  {
   "cell_type": "code",
   "execution_count": 33,
   "id": "37be7fc4",
   "metadata": {},
   "outputs": [
    {
     "name": "stdout",
     "output_type": "stream",
     "text": [
      "The matrix Rank is 2\n"
     ]
    }
   ],
   "source": [
    "# Matrix Rank\n",
    "print(f\"The matrix Rank is {np.linalg.matrix_rank(matrix)}\")"
   ]
  },
  {
   "cell_type": "code",
   "execution_count": 34,
   "id": "a0cbcfeb",
   "metadata": {},
   "outputs": [
    {
     "data": {
      "text/plain": [
       "array([4, 8])"
      ]
     },
     "execution_count": 34,
     "metadata": {},
     "output_type": "execute_result"
    }
   ],
   "source": [
    "# Getting diagonal elements of matrix\n",
    "matrix.diagonal()\n",
    "matrix.diagonal(offset=-1)"
   ]
  },
  {
   "cell_type": "code",
   "execution_count": 35,
   "id": "6c606567",
   "metadata": {},
   "outputs": [
    {
     "data": {
      "text/plain": [
       "np.int64(15)"
      ]
     },
     "execution_count": 35,
     "metadata": {},
     "output_type": "execute_result"
    }
   ],
   "source": [
    "# Trace of a matrix - the sum of the diagonal elements\n",
    "matrix.trace()"
   ]
  },
  {
   "cell_type": "code",
   "execution_count": 36,
   "id": "e228b948",
   "metadata": {},
   "outputs": [
    {
     "data": {
      "text/plain": [
       "np.int64(32)"
      ]
     },
     "execution_count": 36,
     "metadata": {},
     "output_type": "execute_result"
    }
   ],
   "source": [
    "# Calculating Dot Products\n",
    "np.dot(vector_a, vector_b)\n",
    "vector_a@vector_b"
   ]
  },
  {
   "cell_type": "code",
   "execution_count": 37,
   "id": "16053549",
   "metadata": {},
   "outputs": [
    {
     "name": "stdout",
     "output_type": "stream",
     "text": [
      "[[ 2  4  2]\n",
      " [ 2  4  2]\n",
      " [ 2  4 10]]\n",
      "[[ 0 -2  0]\n",
      " [ 0 -2  0]\n",
      " [ 0 -2 -6]]\n",
      "[[ 1  3  1]\n",
      " [ 1  3  1]\n",
      " [ 1  3 16]]\n"
     ]
    }
   ],
   "source": [
    "# Adding, subtracting and multiplying matrices\n",
    "print(np.add(matrix_a, matrix_b))\n",
    "print(np.subtract(matrix_a, matrix_b))\n",
    "print(matrix_a*matrix_b)"
   ]
  },
  {
   "cell_type": "code",
   "execution_count": 38,
   "id": "13d30d17",
   "metadata": {},
   "outputs": [
    {
     "data": {
      "text/plain": [
       "array([[-4.50359963e+15,  9.00719925e+15, -4.50359963e+15],\n",
       "       [ 9.00719925e+15, -1.80143985e+16,  9.00719925e+15],\n",
       "       [-4.50359963e+15,  9.00719925e+15, -4.50359963e+15]])"
      ]
     },
     "execution_count": 38,
     "metadata": {},
     "output_type": "execute_result"
    }
   ],
   "source": [
    "# Inverting a Matrix\n",
    "np.linalg.inv(matrix)"
   ]
  },
  {
   "cell_type": "code",
   "execution_count": 39,
   "id": "60817634",
   "metadata": {},
   "outputs": [
    {
     "data": {
      "text/plain": [
       "array([1.47997717, 1.3927848 , 1.83607876])"
      ]
     },
     "execution_count": 39,
     "metadata": {},
     "output_type": "execute_result"
    }
   ],
   "source": [
    "# Generating Random Values - pseudorandom values.\n",
    "np.random.seed(0)\n",
    "np.random.random(3)\n",
    "# Generate three random integers between 0 and 10\n",
    "np.random.randint(0, 11, 3)\n",
    "# Draw three numbers from a normal distribution with mean 0.0 and standard deviation of 1.0\n",
    "np.random.normal(0.0, 1.0, 3)\n",
    "# Draw three numbers from a logistic distribution with mean 0.0 and scale of 1.0\n",
    "np.random.logistic(0.0, 1.0, 3)\n",
    "# Draw three numbers greater than or equal to 1.0 and less than 2.0\n",
    "np.random.uniform(1.0, 2.0, 3)"
   ]
  }
 ],
 "metadata": {
  "kernelspec": {
   "display_name": ".venv",
   "language": "python",
   "name": "python3"
  },
  "language_info": {
   "codemirror_mode": {
    "name": "ipython",
    "version": 3
   },
   "file_extension": ".py",
   "mimetype": "text/x-python",
   "name": "python",
   "nbconvert_exporter": "python",
   "pygments_lexer": "ipython3",
   "version": "3.12.3"
  }
 },
 "nbformat": 4,
 "nbformat_minor": 5
}
