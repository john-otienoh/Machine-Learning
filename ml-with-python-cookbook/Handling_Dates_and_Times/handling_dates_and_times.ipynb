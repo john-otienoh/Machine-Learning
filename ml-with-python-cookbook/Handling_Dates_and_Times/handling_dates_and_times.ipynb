{
 "cells": [
  {
   "cell_type": "code",
   "execution_count": null,
   "id": "6a9a98e6",
   "metadata": {},
   "outputs": [],
   "source": [
    "import numpy as np\n",
    "import pandas as pd\n",
    "from pytz import all_timezones"
   ]
  },
  {
   "cell_type": "code",
   "execution_count": null,
   "id": "f1c1601b",
   "metadata": {},
   "outputs": [],
   "source": [
    "# Converting Strings to date\n",
    "date_strings = np.array(['03-04-2005 11:35 PM', '23-04-2015 12:35 PM',])\n",
    "[pd.to_datetime(date, format='%d-%m-%Y %I:%M %p', errors='coerce') for date in date_strings]"
   ]
  },
  {
   "cell_type": "code",
   "execution_count": null,
   "id": "23a2afa3",
   "metadata": {},
   "outputs": [],
   "source": [
    "all_timezones[590:]"
   ]
  },
  {
   "cell_type": "code",
   "execution_count": null,
   "id": "5d16ed34",
   "metadata": {},
   "outputs": [],
   "source": [
    "# Handling Time Zones\n",
    "pd.Timestamp('2017-05-01 06:00:00', tz='Europe/London')\n",
    "date = pd.Timestamp('2017-05-01 06:00:00')\n",
    "date_in_london = date.tz_localize('Europe/London')\n",
    "date_in_london.tz_convert('Africa/Abidjan')\n",
    "dates = pd.Series(pd.date_range('2/2/2002', periods=3, freq='M'))\n",
    "dates.tz_localize('Africa/Abidjan')"
   ]
  },
  {
   "cell_type": "code",
   "execution_count": null,
   "id": "c083f826",
   "metadata": {},
   "outputs": [],
   "source": [
    "df = pd.DataFrame()\n",
    "df['date'] = pd.date_range('1/1/2001', periods=100000, freq='H')\n",
    "df[\n",
    "    (df['date'] > '2002-1-1 01:00:00') & (df['date'] <= '2002-1-1 04:00:00')\n",
    "]\n",
    "df.set_index(df['date'])\n",
    "# df.loc['2002-1-1 01:00:00':'2002-1-1 04:00:00']\n"
   ]
  },
  {
   "cell_type": "code",
   "execution_count": null,
   "id": "a8b9f203",
   "metadata": {},
   "outputs": [],
   "source": [
    "# Breaking Up date into multiple features\n",
    "dataframe = pd.DataFrame()\n",
    "dataframe['date'] = pd.date_range('1/1/2001', periods=150, freq='W')\n",
    "dataframe['year'] = dataframe['date'].dt.year\n",
    "dataframe['month'] = dataframe['date'].dt.month\n",
    "dataframe['day'] = dataframe['date'].dt.day\n",
    "dataframe['hour'] = dataframe['date'].dt.hour\n",
    "dataframe['minute'] = dataframe['date'].dt.minute\n",
    "dataframe.head()"
   ]
  },
  {
   "cell_type": "code",
   "execution_count": null,
   "id": "0d5914d5",
   "metadata": {},
   "outputs": [],
   "source": [
    "# Calculating Difference between dates\n",
    "datafrme = pd.DataFrame()\n",
    "datafrme['Arrived'] = [pd.Timestamp('01-01-2017'), pd.Timestamp('01-04-2017')]\n",
    "datafrme['Left'] = [pd.Timestamp('01-01-2017'), pd.Timestamp('01-06-2017')]\n",
    "datafrme['Left'] - datafrme['Arrived']\n",
    "pd.Series(delta.days for delta in (datafrme['Left'] - datafrme['Arrived']))"
   ]
  },
  {
   "cell_type": "code",
   "execution_count": null,
   "id": "9b7406e6",
   "metadata": {},
   "outputs": [],
   "source": [
    "# Encoding Days of the week\n",
    "dates = pd.Series(pd.date_range(\"2/2/2002\", periods=3, freq=\"M\"))\n",
    "dates.dt.day_name()\n",
    "dates.dt.weekday"
   ]
  },
  {
   "cell_type": "code",
   "execution_count": null,
   "id": "4f46955e",
   "metadata": {},
   "outputs": [],
   "source": [
    "# Creating a lagged Feature\n",
    "date_df = pd.DataFrame()\n",
    "date_df['dates'] = pd.date_range('1/1/2001', periods=5, freq='D')\n",
    "date_df[\"stock_price\"] = [1.1,2.2,3.3,4.4,5.5]\n",
    "date_df[\"previous_days_stock_price\"] = date_df[\"stock_price\"].shift(1)\n",
    "date_df"
   ]
  },
  {
   "cell_type": "code",
   "execution_count": null,
   "id": "16843446",
   "metadata": {},
   "outputs": [],
   "source": [
    "# Using Rolling Time Windows\n",
    "d = pd.date_range(\"01/01/2010\", periods=5, freq=\"M\")\n",
    "time_index = pd.DataFrame(index=d)\n",
    "time_index['Stock Price'] = [1,2,3,4,5]\n",
    "time_index.rolling(window=2).mean()"
   ]
  },
  {
   "cell_type": "code",
   "execution_count": null,
   "id": "d8ba83d8",
   "metadata": {},
   "outputs": [],
   "source": [
    "# Handling Missing Data in Time Series\n",
    "missing_df = pd.DataFrame(index=pd.date_range(\"01/01/2010\", periods=5, freq=\"M\"))\n",
    "missing_df[\"Sales\"] = [1.0,2.0,np.nan,np.nan,5.0]\n",
    "missing_df\n",
    "missing_df.interpolate(method='quadratic', limit=1, limit_direction='forward')\n",
    "missing_df.ffill()\n",
    "missing_df.bfill()"
   ]
  }
 ],
 "metadata": {
  "kernelspec": {
   "display_name": ".venv",
   "language": "python",
   "name": "python3"
  },
  "language_info": {
   "codemirror_mode": {
    "name": "ipython",
    "version": 3
   },
   "file_extension": ".py",
   "mimetype": "text/x-python",
   "name": "python",
   "nbconvert_exporter": "python",
   "pygments_lexer": "ipython3",
   "version": "3.12.3"
  }
 },
 "nbformat": 4,
 "nbformat_minor": 5
}
